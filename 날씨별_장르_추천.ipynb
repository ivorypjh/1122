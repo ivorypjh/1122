{
 "cells": [
  {
   "cell_type": "markdown",
   "id": "b6c57d69",
   "metadata": {},
   "source": [
    "## 공용 코드 "
   ]
  },
  {
   "cell_type": "code",
   "execution_count": 1,
   "id": "ff447c8b",
   "metadata": {},
   "outputs": [],
   "source": [
    "# 파이썬\n",
    "# ≥3.5 필수\n",
    "import sys\n",
    "assert sys.version_info >= (3, 5)\n",
    "\n",
    "# 공통 모듈 임포트\n",
    "import numpy as np\n",
    "import pandas as pd\n",
    "import os\n",
    "\n",
    "path = \"c:/Windows/Fonts/malgun.ttf\"\n",
    "\n",
    "from matplotlib import font_manager, rc\n",
    "\n",
    "import platform\n",
    "\n",
    "if platform.system() == 'Darwin':\n",
    "    rc('font', family='AppleGothic')\n",
    "elif platform.system() == 'Windows':\n",
    "    font_name = font_manager.FontProperties(fname=path).get_name()\n",
    "    rc('font', family=font_name)\n",
    "    \n",
    "# Jupyter Notebook의 출력을 소수점 이하 3자리로 제한\n",
    "%precision 3\n",
    "\n",
    "import sklearn\n",
    "assert sklearn.__version__ >= \"0.20\"\n",
    "\n",
    "# 시드 고정\n",
    "np.random.seed(21)"
   ]
  },
  {
   "cell_type": "markdown",
   "id": "d4e3fb27",
   "metadata": {},
   "source": [
    "## 데이터 가져오기"
   ]
  },
  {
   "cell_type": "code",
   "execution_count": 2,
   "id": "b6c84533",
   "metadata": {},
   "outputs": [],
   "source": [
    "origin_data = pd.read_excel('./3차_VOD_2308.xlsx')\n",
    "weather_data = pd.read_excel('8_10월_날씨.xlsx')"
   ]
  },
  {
   "cell_type": "code",
   "execution_count": null,
   "id": "4dbf4d9e",
   "metadata": {},
   "outputs": [],
   "source": [
    "origin_data.head()"
   ]
  },
  {
   "cell_type": "code",
   "execution_count": 4,
   "id": "ae4a577e",
   "metadata": {},
   "outputs": [
    {
     "name": "stdout",
     "output_type": "stream",
     "text": [
      "<class 'pandas._libs.tslibs.timestamps.Timestamp'>\n"
     ]
    }
   ],
   "source": [
    "weather_data.head()\n",
    "print(type(weather_data['date'][0])) # timestamp 타입"
   ]
  },
  {
   "cell_type": "markdown",
   "id": "9f0bf556",
   "metadata": {},
   "source": [
    "### 데이터 전처리"
   ]
  },
  {
   "cell_type": "code",
   "execution_count": 5,
   "id": "4a90f8d0",
   "metadata": {},
   "outputs": [],
   "source": [
    "# 불필요한 컬럼 삭제\n",
    "drop_data = origin_data.drop(['Unnamed: 0', 'subsr', 'use_tms', 'SMRY', 'ACTR_DISP', 'disp_rtm'], axis = 1, inplace = False)\n",
    "#origin_data['Unnamed: 0']"
   ]
  },
  {
   "cell_type": "code",
   "execution_count": 15,
   "id": "e74ad5db",
   "metadata": {},
   "outputs": [],
   "source": [
    "# 연/월/일 데이터 구분\n",
    "day_data = []\n",
    "\n",
    "for _, item in drop_data.iterrows():\n",
    "    day_data.append(str(item['strt_dt'])[:8])"
   ]
  },
  {
   "cell_type": "code",
   "execution_count": 16,
   "id": "f85312e2",
   "metadata": {},
   "outputs": [],
   "source": [
    "# 연/월/일 데이터 컬럼으로 추가\n",
    "drop_data['day'] = day_data"
   ]
  },
  {
   "cell_type": "code",
   "execution_count": null,
   "id": "82d29989",
   "metadata": {},
   "outputs": [],
   "source": [
    "# 데이터 컬럼 수정\n",
    "\n",
    "# 저장할 리스트 생성\n",
    "new_day = []\n",
    "\n",
    "# 수정할 데이터 생성\n",
    "for _, item in drop_data.iterrows():\n",
    "    day = str(item['day'])\n",
    "    new_day.append(str(day[:4] + '-' + day[4:6] + '-' + day[6:]))\n",
    "    \n",
    "# 데이터 수정\n",
    "drop_data['day'] = new_day\n",
    "\n",
    "# 확인\n",
    "print(drop_data.head())\n",
    "print(type(drop_data['day'][0])) # str 타입"
   ]
  },
  {
   "cell_type": "markdown",
   "id": "776078cd",
   "metadata": {},
   "source": [
    "### 날씨 데이터 추가"
   ]
  },
  {
   "cell_type": "code",
   "execution_count": 9,
   "id": "71ccb749",
   "metadata": {},
   "outputs": [],
   "source": [
    "# 날씨 데이터의 타입 변경하기 - 기존 데이터와 일치를 확인하기 위해서\n",
    "\n",
    "# 데이터 타입 확인\n",
    "#weather_data.dtypes\n",
    "\n",
    "# 데이터 타입 변경 \n",
    "weather = weather_data.astype({'date' : 'str'})"
   ]
  },
  {
   "cell_type": "code",
   "execution_count": 10,
   "id": "1bc71bb9",
   "metadata": {},
   "outputs": [
    {
     "name": "stdout",
     "output_type": "stream",
     "text": [
      "{'2023-08-01': '맑음', '2023-08-02': '맑음', '2023-08-03': '맑음', '2023-08-04': '맑음', '2023-08-05': '맑음', '2023-08-06': '비', '2023-08-07': '맑음', '2023-08-08': '맑음', '2023-08-09': '비', '2023-08-10': '비', '2023-08-11': '비', '2023-08-12': '비', '2023-08-13': '흐림', '2023-08-14': '흐림', '2023-08-15': '흐림', '2023-08-16': '비', '2023-08-17': '맑음', '2023-08-18': '비', '2023-08-19': '맑음', '2023-08-20': '비', '2023-08-21': '비', '2023-08-22': '비', '2023-08-23': '비', '2023-08-24': '비', '2023-08-25': '비', '2023-08-26': '흐림', '2023-08-27': '비', '2023-08-28': '비', '2023-08-29': '비', '2023-08-30': '비', '2023-08-31': '흐림', '2023-09-01': '맑음', '2023-09-02': '맑음', '2023-09-03': '비', '2023-09-04': '비', '2023-09-05': '비', '2023-09-06': '맑음', '2023-09-07': '맑음', '2023-09-08': '맑음', '2023-09-09': '맑음', '2023-09-10': '흐림', '2023-09-11': '흐림', '2023-09-12': '흐림', '2023-09-13': '비', '2023-09-14': '흐림', '2023-09-15': '비', '2023-09-16': '비', '2023-09-17': '비', '2023-09-18': '흐림', '2023-09-19': '흐림', '2023-09-20': '비', '2023-09-21': '비', '2023-09-22': '맑음', '2023-09-23': '맑음', '2023-09-24': '맑음', '2023-09-25': '비', '2023-09-26': '비', '2023-09-27': '비', '2023-09-28': '흐림', '2023-09-29': '흐림', '2023-09-30': '비', '2023-10-01': '맑음', '2023-10-02': '맑음', '2023-10-03': '맑음', '2023-10-04': '비', '2023-10-05': '맑음', '2023-10-06': '흐림', '2023-10-07': '흐림', '2023-10-08': '비', '2023-10-09': '비', '2023-10-10': '맑음', '2023-10-11': '맑음', '2023-10-12': '맑음', '2023-10-13': '흐림', '2023-10-14': '비', '2023-10-15': '흐림', '2023-10-16': '맑음', '2023-10-17': '맑음', '2023-10-18': '맑음', '2023-10-19': '비', '2023-10-20': '맑음', '2023-10-21': '비', '2023-10-22': '맑음', '2023-10-23': '흐림', '2023-10-24': '흐림', '2023-10-25': '흐림', '2023-10-26': '비', '2023-10-27': '흐림', '2023-10-28': '맑음', '2023-10-29': '맑음', '2023-10-30': '흐림', '2023-10-31': '흐림'}\n"
     ]
    }
   ],
   "source": [
    "weather_list = {}\n",
    "\n",
    "for _, item in weather.iterrows():\n",
    "    weather_list[item['date']] = item['weather']\n",
    "    \n",
    "# 확인\n",
    "print(weather_list)"
   ]
  },
  {
   "cell_type": "code",
   "execution_count": 19,
   "id": "06dbff6a",
   "metadata": {},
   "outputs": [],
   "source": [
    "# 데이터 컬럼에 추가\n",
    "add_weather_list = []\n",
    "\n",
    "for _, item in drop_data.iterrows():\n",
    "    add_weather_list.append(weather_list[item['day']])\n",
    "\n",
    "# 확인\n",
    "#print(add_weather_list)\n",
    "\n",
    "# 데이터 컬럼에 추가\n",
    "drop_data['weather'] = add_weather_list\n"
   ]
  },
  {
   "cell_type": "code",
   "execution_count": null,
   "id": "1e57f4de",
   "metadata": {},
   "outputs": [],
   "source": [
    "drop_data.head()"
   ]
  },
  {
   "cell_type": "code",
   "execution_count": null,
   "id": "6ae64c99",
   "metadata": {},
   "outputs": [],
   "source": [
    "# 세부 장르 컬럼은 겹치는 장르가 다른데도 이름이 겹치는 경우가 있으므로\n",
    "# 둘을 묶어서 하나의 장르 컬럼을 생성\n",
    "drop_data['genre'] = drop_data['ct_cl'] + '&' + drop_data['genre_of_ct_cl']\n",
    "# 확인\n",
    "print(drop_data.head())"
   ]
  },
  {
   "cell_type": "code",
   "execution_count": 24,
   "id": "1c2e7ccb",
   "metadata": {},
   "outputs": [],
   "source": [
    "# 불필요한 컬럼 제거\n",
    "weather_data = drop_data.drop(['asset_nm', 'ct_cl', 'genre_of_ct_cl', 'strt_dt'], axis = 1)"
   ]
  },
  {
   "cell_type": "code",
   "execution_count": 25,
   "id": "8b9c927c",
   "metadata": {},
   "outputs": [
    {
     "name": "stdout",
     "output_type": "stream",
     "text": [
      "          day weather        genre\n",
      "0  2023-08-12       비  TV 시사/교양&기타\n",
      "1  2023-08-16       비  TV 시사/교양&기타\n",
      "2  2023-08-29       비  TV 시사/교양&기타\n"
     ]
    }
   ],
   "source": [
    "# 확인\n",
    "print(weather_data.head(3))"
   ]
  },
  {
   "cell_type": "code",
   "execution_count": 26,
   "id": "3ea3fde4",
   "metadata": {},
   "outputs": [
    {
     "data": {
      "text/plain": [
       "466"
      ]
     },
     "execution_count": 26,
     "metadata": {},
     "output_type": "execute_result"
    }
   ],
   "source": [
    "# 메모리 정리\n",
    "import gc\n",
    "gc.collect() "
   ]
  },
  {
   "cell_type": "markdown",
   "id": "7cc48c16",
   "metadata": {},
   "source": [
    "### 단순 선형 회귀"
   ]
  },
  {
   "cell_type": "code",
   "execution_count": 27,
   "id": "43b817eb",
   "metadata": {},
   "outputs": [],
   "source": [
    "# 평가 지표를 위한 함수\n",
    "from sklearn.metrics import mean_squared_error, mean_absolute_error\n",
    "import numpy as np\n",
    "\n",
    "# RMSLE 를 구하는 함수\n",
    "def rmsle(y, pred):\n",
    "    # 로그를 적용\n",
    "    # log 함수를 사용하면 NaN 에서 문제가 발생하기 때문에\n",
    "    # log1p 함수를 대신 사용함\n",
    "    log_y = np.log1p(y)\n",
    "    log_pred = np.log1p(pred)\n",
    "    squared_error = (log_y - log_pred) ** 2\n",
    "    rmsle = np.sqrt(np.mean(squared_error))\n",
    "    \n",
    "    return rmsle\n",
    "\n",
    "# RMSE 를 구하는 함수\n",
    "def rmse(y, pred):\n",
    "    return np.sqrt(mean_squared_error(y, pred))\n",
    "\n",
    "# 평가 지표를 구하는 함수\n",
    "def evaluate_regr(y, pred):\n",
    "    rmsle_val = rmsle(y, pred)\n",
    "    rmse_val = rmse(y, pred)\n",
    "    mae_val = mean_absolute_error(y, pred)\n",
    "    print('RMSLE : {0}, RMSE : {1}, MAE : {2}'.format(rmsle_val, rmse_val, mae_val))"
   ]
  },
  {
   "cell_type": "code",
   "execution_count": 63,
   "id": "cd64a79f",
   "metadata": {},
   "outputs": [],
   "source": [
    "# 단순 선형 회귀 적용\n",
    "from sklearn.model_selection import train_test_split\n",
    "from sklearn.linear_model import LinearRegression\n",
    "\n",
    "# 데이터 생성\n",
    "y_target = weather_data['genre']\n",
    "X_features = weather_data['weather']\n",
    "X_train, X_test, y_train, y_test = train_test_split(X_features, y_target,\n",
    "                                                   test_size = 0.2, random_state = 21)"
   ]
  },
  {
   "cell_type": "code",
   "execution_count": 72,
   "id": "303458f0",
   "metadata": {},
   "outputs": [],
   "source": [
    "# 원 핫 인코딩 수행\n",
    "X_features_one = pd.get_dummies(X_features, columns = ['weather'])\n",
    "y_target_log = pd.get_dummies(y_target, columns = ['genre'])\n",
    "\n",
    "# 수행 확인\n",
    "#print(X_features_one.head())\n",
    "#print(y_target_log.head())"
   ]
  },
  {
   "cell_type": "code",
   "execution_count": 65,
   "id": "1a06bbae",
   "metadata": {},
   "outputs": [],
   "source": [
    "# 원 핫 인코딩을 수행했으므로 다시 데이터를 분할\n",
    "X_train, X_test, y_train, y_test = train_test_split(X_features_one, y_target_log,\n",
    "                                                   test_size = 0.2, random_state = 21)"
   ]
  },
  {
   "cell_type": "code",
   "execution_count": null,
   "id": "79cef659",
   "metadata": {},
   "outputs": [],
   "source": [
    "# 단순 선형 회귀 수행 \n",
    "# 데이터의 타입이 float 이 아니라 str 이라면 수행 불가능\n",
    "# 원 핫 인코딩을 통해 정확도를 높이면서 타입을 변환\n",
    "lr_reg = LinearRegression()\n",
    "lr_reg.fit(X_train, y_train)\n",
    "pred = lr_reg.predict(X_test)\n",
    "\n",
    "#print(pred)\n",
    "evaluate_regr(y_test, pred)"
   ]
  },
  {
   "cell_type": "markdown",
   "id": "8b262f3d",
   "metadata": {},
   "source": [
    "### 세부 장르별 날씨"
   ]
  },
  {
   "cell_type": "code",
   "execution_count": 104,
   "id": "013ad37e",
   "metadata": {},
   "outputs": [
    {
     "name": "stdout",
     "output_type": "stream",
     "text": [
      "<class 'pandas.core.frame.DataFrame'>\n",
      "RangeIndex: 5615 entries, 0 to 5614\n",
      "Data columns (total 5 columns):\n",
      " #   Column      Non-Null Count  Dtype \n",
      "---  ------      --------------  ----- \n",
      " 0   day         5615 non-null   object\n",
      " 1   genre       5615 non-null   object\n",
      " 2   weather_맑음  5615 non-null   uint8 \n",
      " 3   weather_비   5615 non-null   uint8 \n",
      " 4   weather_흐림  5615 non-null   uint8 \n",
      "dtypes: object(2), uint8(3)\n",
      "memory usage: 104.3+ KB\n",
      "None\n",
      "<class 'pandas.core.series.Series'>\n",
      "RangeIndex: 5615 entries, 0 to 5614\n",
      "Series name: TV 시사/교양&기타\n",
      "Non-Null Count  Dtype\n",
      "--------------  -----\n",
      "5615 non-null   uint8\n",
      "dtypes: uint8(1)\n",
      "memory usage: 5.6 KB\n",
      "None\n"
     ]
    }
   ],
   "source": [
    "print(X_features_one.info())\n",
    "print(y_target_log.info())"
   ]
  },
  {
   "cell_type": "code",
   "execution_count": 146,
   "id": "6526fa85",
   "metadata": {},
   "outputs": [
    {
     "name": "stdout",
     "output_type": "stream",
     "text": [
      "[0.231 0.231 0.153 ... 0.168 0.231 0.231]\n",
      "RMSLE : 0.28021371514498744, RMSE : 0.39974836819009535, MAE : 0.3192525500435581\n"
     ]
    }
   ],
   "source": [
    "# 세부 장르에 대해 선형회귀\n",
    "\n",
    "# 선형 회귀에 사용할 데이터\n",
    "y_target = weather_data['genre']\n",
    "X_features = weather_data['weather']\n",
    "\n",
    "# 원 핫 인코딩 수행\n",
    "X_features_one = pd.get_dummies(X_features, columns = ['weather'])\n",
    "y_target_log = (pd.get_dummies(weather_data, columns = ['genre']))['genre_TV드라마&기타']\n",
    "\n",
    "# 원 핫 인코딩을 수행한 데이터를 분할\n",
    "X_train, X_test, y_train, y_test = train_test_split(X_features_one, y_target_log,\n",
    "                                                   test_size = 0.2, random_state = 21)\n",
    "\n",
    "# 단순 선형 회귀 수행 후 결과 확인 \n",
    "lr_reg = LinearRegression()\n",
    "lr_reg.fit(X_train, y_train)\n",
    "pred = lr_reg.predict(X_test)\n",
    "\n",
    "print(pred)\n",
    "evaluate_regr(y_test, pred)"
   ]
  },
  {
   "cell_type": "code",
   "execution_count": 139,
   "id": "c4a3e981",
   "metadata": {},
   "outputs": [
    {
     "data": {
      "text/html": [
       "<div>\n",
       "<style scoped>\n",
       "    .dataframe tbody tr th:only-of-type {\n",
       "        vertical-align: middle;\n",
       "    }\n",
       "\n",
       "    .dataframe tbody tr th {\n",
       "        vertical-align: top;\n",
       "    }\n",
       "\n",
       "    .dataframe thead th {\n",
       "        text-align: right;\n",
       "    }\n",
       "</style>\n",
       "<table border=\"1\" class=\"dataframe\">\n",
       "  <thead>\n",
       "    <tr style=\"text-align: right;\">\n",
       "      <th></th>\n",
       "      <th>day</th>\n",
       "      <th>weather</th>\n",
       "      <th>genre_TV 시사/교양&amp;기타</th>\n",
       "      <th>genre_TV 시사/교양&amp;인물/다큐</th>\n",
       "      <th>genre_TV 연예/오락&amp;기타</th>\n",
       "      <th>genre_TV드라마&amp;기타</th>\n",
       "      <th>genre_TV드라마&amp;외화 시리즈</th>\n",
       "      <th>genre_TV애니메이션&amp;기타</th>\n",
       "      <th>genre_TV애니메이션&amp;명랑/코믹</th>\n",
       "      <th>genre_TV애니메이션&amp;액션/모험</th>\n",
       "      <th>...</th>\n",
       "      <th>genre_영화&amp;무협</th>\n",
       "      <th>genre_영화&amp;애니메이션</th>\n",
       "      <th>genre_영화&amp;액션/어드벤쳐</th>\n",
       "      <th>genre_영화&amp;역사</th>\n",
       "      <th>genre_영화&amp;코미디</th>\n",
       "      <th>genre_우리동네&amp;연예/오락</th>\n",
       "      <th>genre_키즈&amp;기타</th>\n",
       "      <th>genre_키즈&amp;애니메이션</th>\n",
       "      <th>genre_키즈&amp;오락</th>\n",
       "      <th>genre_키즈&amp;학습</th>\n",
       "    </tr>\n",
       "  </thead>\n",
       "  <tbody>\n",
       "    <tr>\n",
       "      <th>0</th>\n",
       "      <td>2023-08-12</td>\n",
       "      <td>비</td>\n",
       "      <td>1</td>\n",
       "      <td>0</td>\n",
       "      <td>0</td>\n",
       "      <td>0</td>\n",
       "      <td>0</td>\n",
       "      <td>0</td>\n",
       "      <td>0</td>\n",
       "      <td>0</td>\n",
       "      <td>...</td>\n",
       "      <td>0</td>\n",
       "      <td>0</td>\n",
       "      <td>0</td>\n",
       "      <td>0</td>\n",
       "      <td>0</td>\n",
       "      <td>0</td>\n",
       "      <td>0</td>\n",
       "      <td>0</td>\n",
       "      <td>0</td>\n",
       "      <td>0</td>\n",
       "    </tr>\n",
       "    <tr>\n",
       "      <th>1</th>\n",
       "      <td>2023-08-16</td>\n",
       "      <td>비</td>\n",
       "      <td>1</td>\n",
       "      <td>0</td>\n",
       "      <td>0</td>\n",
       "      <td>0</td>\n",
       "      <td>0</td>\n",
       "      <td>0</td>\n",
       "      <td>0</td>\n",
       "      <td>0</td>\n",
       "      <td>...</td>\n",
       "      <td>0</td>\n",
       "      <td>0</td>\n",
       "      <td>0</td>\n",
       "      <td>0</td>\n",
       "      <td>0</td>\n",
       "      <td>0</td>\n",
       "      <td>0</td>\n",
       "      <td>0</td>\n",
       "      <td>0</td>\n",
       "      <td>0</td>\n",
       "    </tr>\n",
       "    <tr>\n",
       "      <th>2</th>\n",
       "      <td>2023-08-29</td>\n",
       "      <td>비</td>\n",
       "      <td>1</td>\n",
       "      <td>0</td>\n",
       "      <td>0</td>\n",
       "      <td>0</td>\n",
       "      <td>0</td>\n",
       "      <td>0</td>\n",
       "      <td>0</td>\n",
       "      <td>0</td>\n",
       "      <td>...</td>\n",
       "      <td>0</td>\n",
       "      <td>0</td>\n",
       "      <td>0</td>\n",
       "      <td>0</td>\n",
       "      <td>0</td>\n",
       "      <td>0</td>\n",
       "      <td>0</td>\n",
       "      <td>0</td>\n",
       "      <td>0</td>\n",
       "      <td>0</td>\n",
       "    </tr>\n",
       "    <tr>\n",
       "      <th>3</th>\n",
       "      <td>2023-08-13</td>\n",
       "      <td>흐림</td>\n",
       "      <td>1</td>\n",
       "      <td>0</td>\n",
       "      <td>0</td>\n",
       "      <td>0</td>\n",
       "      <td>0</td>\n",
       "      <td>0</td>\n",
       "      <td>0</td>\n",
       "      <td>0</td>\n",
       "      <td>...</td>\n",
       "      <td>0</td>\n",
       "      <td>0</td>\n",
       "      <td>0</td>\n",
       "      <td>0</td>\n",
       "      <td>0</td>\n",
       "      <td>0</td>\n",
       "      <td>0</td>\n",
       "      <td>0</td>\n",
       "      <td>0</td>\n",
       "      <td>0</td>\n",
       "    </tr>\n",
       "    <tr>\n",
       "      <th>4</th>\n",
       "      <td>2023-08-04</td>\n",
       "      <td>맑음</td>\n",
       "      <td>1</td>\n",
       "      <td>0</td>\n",
       "      <td>0</td>\n",
       "      <td>0</td>\n",
       "      <td>0</td>\n",
       "      <td>0</td>\n",
       "      <td>0</td>\n",
       "      <td>0</td>\n",
       "      <td>...</td>\n",
       "      <td>0</td>\n",
       "      <td>0</td>\n",
       "      <td>0</td>\n",
       "      <td>0</td>\n",
       "      <td>0</td>\n",
       "      <td>0</td>\n",
       "      <td>0</td>\n",
       "      <td>0</td>\n",
       "      <td>0</td>\n",
       "      <td>0</td>\n",
       "    </tr>\n",
       "    <tr>\n",
       "      <th>...</th>\n",
       "      <td>...</td>\n",
       "      <td>...</td>\n",
       "      <td>...</td>\n",
       "      <td>...</td>\n",
       "      <td>...</td>\n",
       "      <td>...</td>\n",
       "      <td>...</td>\n",
       "      <td>...</td>\n",
       "      <td>...</td>\n",
       "      <td>...</td>\n",
       "      <td>...</td>\n",
       "      <td>...</td>\n",
       "      <td>...</td>\n",
       "      <td>...</td>\n",
       "      <td>...</td>\n",
       "      <td>...</td>\n",
       "      <td>...</td>\n",
       "      <td>...</td>\n",
       "      <td>...</td>\n",
       "      <td>...</td>\n",
       "      <td>...</td>\n",
       "    </tr>\n",
       "    <tr>\n",
       "      <th>5610</th>\n",
       "      <td>2023-08-10</td>\n",
       "      <td>비</td>\n",
       "      <td>0</td>\n",
       "      <td>0</td>\n",
       "      <td>0</td>\n",
       "      <td>0</td>\n",
       "      <td>0</td>\n",
       "      <td>0</td>\n",
       "      <td>0</td>\n",
       "      <td>0</td>\n",
       "      <td>...</td>\n",
       "      <td>0</td>\n",
       "      <td>0</td>\n",
       "      <td>0</td>\n",
       "      <td>0</td>\n",
       "      <td>0</td>\n",
       "      <td>0</td>\n",
       "      <td>0</td>\n",
       "      <td>0</td>\n",
       "      <td>0</td>\n",
       "      <td>1</td>\n",
       "    </tr>\n",
       "    <tr>\n",
       "      <th>5611</th>\n",
       "      <td>2023-08-10</td>\n",
       "      <td>비</td>\n",
       "      <td>0</td>\n",
       "      <td>0</td>\n",
       "      <td>0</td>\n",
       "      <td>0</td>\n",
       "      <td>0</td>\n",
       "      <td>0</td>\n",
       "      <td>0</td>\n",
       "      <td>0</td>\n",
       "      <td>...</td>\n",
       "      <td>0</td>\n",
       "      <td>0</td>\n",
       "      <td>0</td>\n",
       "      <td>0</td>\n",
       "      <td>0</td>\n",
       "      <td>0</td>\n",
       "      <td>0</td>\n",
       "      <td>0</td>\n",
       "      <td>0</td>\n",
       "      <td>1</td>\n",
       "    </tr>\n",
       "    <tr>\n",
       "      <th>5612</th>\n",
       "      <td>2023-08-10</td>\n",
       "      <td>비</td>\n",
       "      <td>0</td>\n",
       "      <td>0</td>\n",
       "      <td>0</td>\n",
       "      <td>0</td>\n",
       "      <td>0</td>\n",
       "      <td>0</td>\n",
       "      <td>0</td>\n",
       "      <td>0</td>\n",
       "      <td>...</td>\n",
       "      <td>0</td>\n",
       "      <td>0</td>\n",
       "      <td>0</td>\n",
       "      <td>0</td>\n",
       "      <td>0</td>\n",
       "      <td>0</td>\n",
       "      <td>0</td>\n",
       "      <td>0</td>\n",
       "      <td>0</td>\n",
       "      <td>1</td>\n",
       "    </tr>\n",
       "    <tr>\n",
       "      <th>5613</th>\n",
       "      <td>2023-08-10</td>\n",
       "      <td>비</td>\n",
       "      <td>0</td>\n",
       "      <td>0</td>\n",
       "      <td>0</td>\n",
       "      <td>0</td>\n",
       "      <td>0</td>\n",
       "      <td>0</td>\n",
       "      <td>0</td>\n",
       "      <td>0</td>\n",
       "      <td>...</td>\n",
       "      <td>0</td>\n",
       "      <td>0</td>\n",
       "      <td>0</td>\n",
       "      <td>0</td>\n",
       "      <td>0</td>\n",
       "      <td>0</td>\n",
       "      <td>0</td>\n",
       "      <td>0</td>\n",
       "      <td>0</td>\n",
       "      <td>1</td>\n",
       "    </tr>\n",
       "    <tr>\n",
       "      <th>5614</th>\n",
       "      <td>2023-08-16</td>\n",
       "      <td>비</td>\n",
       "      <td>0</td>\n",
       "      <td>0</td>\n",
       "      <td>0</td>\n",
       "      <td>0</td>\n",
       "      <td>0</td>\n",
       "      <td>0</td>\n",
       "      <td>0</td>\n",
       "      <td>0</td>\n",
       "      <td>...</td>\n",
       "      <td>0</td>\n",
       "      <td>0</td>\n",
       "      <td>0</td>\n",
       "      <td>0</td>\n",
       "      <td>0</td>\n",
       "      <td>0</td>\n",
       "      <td>0</td>\n",
       "      <td>0</td>\n",
       "      <td>0</td>\n",
       "      <td>1</td>\n",
       "    </tr>\n",
       "  </tbody>\n",
       "</table>\n",
       "<p>5615 rows × 30 columns</p>\n",
       "</div>"
      ],
      "text/plain": [
       "             day weather  genre_TV 시사/교양&기타  genre_TV 시사/교양&인물/다큐  \\\n",
       "0     2023-08-12       비                  1                     0   \n",
       "1     2023-08-16       비                  1                     0   \n",
       "2     2023-08-29       비                  1                     0   \n",
       "3     2023-08-13      흐림                  1                     0   \n",
       "4     2023-08-04      맑음                  1                     0   \n",
       "...          ...     ...                ...                   ...   \n",
       "5610  2023-08-10       비                  0                     0   \n",
       "5611  2023-08-10       비                  0                     0   \n",
       "5612  2023-08-10       비                  0                     0   \n",
       "5613  2023-08-10       비                  0                     0   \n",
       "5614  2023-08-16       비                  0                     0   \n",
       "\n",
       "      genre_TV 연예/오락&기타  genre_TV드라마&기타  genre_TV드라마&외화 시리즈  genre_TV애니메이션&기타  \\\n",
       "0                     0               0                   0                 0   \n",
       "1                     0               0                   0                 0   \n",
       "2                     0               0                   0                 0   \n",
       "3                     0               0                   0                 0   \n",
       "4                     0               0                   0                 0   \n",
       "...                 ...             ...                 ...               ...   \n",
       "5610                  0               0                   0                 0   \n",
       "5611                  0               0                   0                 0   \n",
       "5612                  0               0                   0                 0   \n",
       "5613                  0               0                   0                 0   \n",
       "5614                  0               0                   0                 0   \n",
       "\n",
       "      genre_TV애니메이션&명랑/코믹  genre_TV애니메이션&액션/모험  ...  genre_영화&무협  \\\n",
       "0                       0                    0  ...            0   \n",
       "1                       0                    0  ...            0   \n",
       "2                       0                    0  ...            0   \n",
       "3                       0                    0  ...            0   \n",
       "4                       0                    0  ...            0   \n",
       "...                   ...                  ...  ...          ...   \n",
       "5610                    0                    0  ...            0   \n",
       "5611                    0                    0  ...            0   \n",
       "5612                    0                    0  ...            0   \n",
       "5613                    0                    0  ...            0   \n",
       "5614                    0                    0  ...            0   \n",
       "\n",
       "      genre_영화&애니메이션  genre_영화&액션/어드벤쳐  genre_영화&역사  genre_영화&코미디  \\\n",
       "0                  0                 0            0             0   \n",
       "1                  0                 0            0             0   \n",
       "2                  0                 0            0             0   \n",
       "3                  0                 0            0             0   \n",
       "4                  0                 0            0             0   \n",
       "...              ...               ...          ...           ...   \n",
       "5610               0                 0            0             0   \n",
       "5611               0                 0            0             0   \n",
       "5612               0                 0            0             0   \n",
       "5613               0                 0            0             0   \n",
       "5614               0                 0            0             0   \n",
       "\n",
       "      genre_우리동네&연예/오락  genre_키즈&기타  genre_키즈&애니메이션  genre_키즈&오락  genre_키즈&학습  \n",
       "0                    0            0               0            0            0  \n",
       "1                    0            0               0            0            0  \n",
       "2                    0            0               0            0            0  \n",
       "3                    0            0               0            0            0  \n",
       "4                    0            0               0            0            0  \n",
       "...                ...          ...             ...          ...          ...  \n",
       "5610                 0            0               0            0            1  \n",
       "5611                 0            0               0            0            1  \n",
       "5612                 0            0               0            0            1  \n",
       "5613                 0            0               0            0            1  \n",
       "5614                 0            0               0            0            1  \n",
       "\n",
       "[5615 rows x 30 columns]"
      ]
     },
     "execution_count": 139,
     "metadata": {},
     "output_type": "execute_result"
    }
   ],
   "source": [
    "pd.get_dummies(weather_data, columns = ['genre'])"
   ]
  },
  {
   "cell_type": "code",
   "execution_count": 149,
   "id": "f3ee7016",
   "metadata": {},
   "outputs": [
    {
     "data": {
      "text/plain": [
       "array([-0.016,  0.047, -0.031])"
      ]
     },
     "execution_count": 149,
     "metadata": {},
     "output_type": "execute_result"
    }
   ],
   "source": [
    "# 계수 확인\n",
    "print(lr_reg.coef_)"
   ]
  },
  {
   "cell_type": "code",
   "execution_count": 116,
   "id": "0d191bcb",
   "metadata": {},
   "outputs": [
    {
     "data": {
      "text/html": [
       "<div>\n",
       "<style scoped>\n",
       "    .dataframe tbody tr th:only-of-type {\n",
       "        vertical-align: middle;\n",
       "    }\n",
       "\n",
       "    .dataframe tbody tr th {\n",
       "        vertical-align: top;\n",
       "    }\n",
       "\n",
       "    .dataframe thead th {\n",
       "        text-align: right;\n",
       "    }\n",
       "</style>\n",
       "<table border=\"1\" class=\"dataframe\">\n",
       "  <thead>\n",
       "    <tr style=\"text-align: right;\">\n",
       "      <th></th>\n",
       "      <th>맑음</th>\n",
       "      <th>비</th>\n",
       "      <th>흐림</th>\n",
       "    </tr>\n",
       "  </thead>\n",
       "  <tbody>\n",
       "    <tr>\n",
       "      <th>0</th>\n",
       "      <td>0</td>\n",
       "      <td>1</td>\n",
       "      <td>0</td>\n",
       "    </tr>\n",
       "    <tr>\n",
       "      <th>1</th>\n",
       "      <td>0</td>\n",
       "      <td>1</td>\n",
       "      <td>0</td>\n",
       "    </tr>\n",
       "    <tr>\n",
       "      <th>2</th>\n",
       "      <td>0</td>\n",
       "      <td>1</td>\n",
       "      <td>0</td>\n",
       "    </tr>\n",
       "    <tr>\n",
       "      <th>3</th>\n",
       "      <td>0</td>\n",
       "      <td>0</td>\n",
       "      <td>1</td>\n",
       "    </tr>\n",
       "    <tr>\n",
       "      <th>4</th>\n",
       "      <td>1</td>\n",
       "      <td>0</td>\n",
       "      <td>0</td>\n",
       "    </tr>\n",
       "    <tr>\n",
       "      <th>...</th>\n",
       "      <td>...</td>\n",
       "      <td>...</td>\n",
       "      <td>...</td>\n",
       "    </tr>\n",
       "    <tr>\n",
       "      <th>5610</th>\n",
       "      <td>0</td>\n",
       "      <td>1</td>\n",
       "      <td>0</td>\n",
       "    </tr>\n",
       "    <tr>\n",
       "      <th>5611</th>\n",
       "      <td>0</td>\n",
       "      <td>1</td>\n",
       "      <td>0</td>\n",
       "    </tr>\n",
       "    <tr>\n",
       "      <th>5612</th>\n",
       "      <td>0</td>\n",
       "      <td>1</td>\n",
       "      <td>0</td>\n",
       "    </tr>\n",
       "    <tr>\n",
       "      <th>5613</th>\n",
       "      <td>0</td>\n",
       "      <td>1</td>\n",
       "      <td>0</td>\n",
       "    </tr>\n",
       "    <tr>\n",
       "      <th>5614</th>\n",
       "      <td>0</td>\n",
       "      <td>1</td>\n",
       "      <td>0</td>\n",
       "    </tr>\n",
       "  </tbody>\n",
       "</table>\n",
       "<p>5615 rows × 3 columns</p>\n",
       "</div>"
      ],
      "text/plain": [
       "      맑음  비  흐림\n",
       "0      0  1   0\n",
       "1      0  1   0\n",
       "2      0  1   0\n",
       "3      0  0   1\n",
       "4      1  0   0\n",
       "...   .. ..  ..\n",
       "5610   0  1   0\n",
       "5611   0  1   0\n",
       "5612   0  1   0\n",
       "5613   0  1   0\n",
       "5614   0  1   0\n",
       "\n",
       "[5615 rows x 3 columns]"
      ]
     },
     "execution_count": 116,
     "metadata": {},
     "output_type": "execute_result"
    }
   ],
   "source": [
    "X_features_one"
   ]
  },
  {
   "cell_type": "code",
   "execution_count": 117,
   "id": "3e22b4b4",
   "metadata": {},
   "outputs": [
    {
     "data": {
      "text/plain": [
       "<Axes: >"
      ]
     },
     "execution_count": 117,
     "metadata": {},
     "output_type": "execute_result"
    },
    {
     "name": "stderr",
     "output_type": "stream",
     "text": [
      "C:\\Users\\USER\\anaconda3\\lib\\site-packages\\IPython\\core\\events.py:89: UserWarning: Glyph 8722 (\\N{MINUS SIGN}) missing from current font.\n",
      "  func(*args, **kwargs)\n",
      "C:\\Users\\USER\\anaconda3\\lib\\site-packages\\IPython\\core\\pylabtools.py:152: UserWarning: Glyph 8722 (\\N{MINUS SIGN}) missing from current font.\n",
      "  fig.canvas.print_figure(bytes_io, **kw)\n"
     ]
    },
    {
     "data": {
      "image/png": "[encoded data removed]",
      "text/plain": [
       "<Figure size 640x480 with 1 Axes>"
      ]
     },
     "metadata": {},
     "output_type": "display_data"
    }
   ],
   "source": [
    "# 선형 회귀에서 feature 의 회귀 계수를 확인\n",
    "coef = pd.Series(lr_reg.coef_, index = X_features_one.columns)\n",
    "coef_sort = coef.sort_values(ascending = False)\n",
    "\n",
    "import seaborn as sns\n",
    "sns.barplot(x = coef_sort.values, y = coef_sort.index)"
   ]
  },
  {
   "cell_type": "code",
   "execution_count": 120,
   "id": "3c5daf81",
   "metadata": {},
   "outputs": [
    {
     "name": "stdout",
     "output_type": "stream",
     "text": [
      "RandomForestRegressor\n",
      "RMSLE : 0.3997527262791798, RMSE : 0.6991883495037478, MAE : 0.4778248405264602\n",
      "GradientBoostingRegressor\n",
      "RMSLE : 0.39974836819009535, RMSE : 0.6991963153539449, MAE : 0.47775508188660515\n",
      "XGBRegressor\n",
      "RMSLE : 0.3997488021850586, RMSE : 0.6991973519325256, MAE : 0.477756142616272\n"
     ]
    }
   ],
   "source": [
    "# 선형 회귀가 아닌 여러 모델 적용\n",
    "from sklearn.ensemble import RandomForestRegressor, GradientBoostingRegressor\n",
    "from xgboost import XGBRegressor\n",
    "\n",
    "# 모델과 데이터를 받아서 훈련하고 평가 지표를 출력하는 함수 생성\n",
    "def get_model_predict(model, X_train, X_test, y_train, y_test, is_expm1 = False):\n",
    "    model.fit(X_train, y_train)\n",
    "    pred = model.predict(X_test)\n",
    "    if is_expm1:\n",
    "        y_test = np.expm1(y_test)\n",
    "        pred = np.expm1(pred)\n",
    "    print(model.__class__.__name__)\n",
    "    evaluate_regr(y_test, pred)\n",
    "    \n",
    "rf_reg = RandomForestRegressor(n_estimators = 500)\n",
    "gbm_reg = GradientBoostingRegressor(n_estimators = 500)\n",
    "xgb_reg = XGBRegressor(n_estimators = 500)\n",
    "\n",
    "for model in [rf_reg, gbm_reg, xgb_reg]:\n",
    "    get_model_predict(model, X_train, X_test, y_train, y_test, is_expm1 = True)"
   ]
  },
  {
   "cell_type": "markdown",
   "id": "fc73c6ec",
   "metadata": {},
   "source": [
    "### 세부 장르별 회귀 계수 비교하기"
   ]
  },
  {
   "cell_type": "code",
   "execution_count": 121,
   "id": "38701bd2",
   "metadata": {},
   "outputs": [],
   "source": [
    "# 파일에서 세부 장르 데이터 가져오기\n",
    "\n",
    "open_file = open('./text files/detail_genre.txt', 'r', encoding = 'utf8')\n",
    "text = open_file.read()\n",
    "open_file.close()\n",
    "\n",
    "data_list = text.split('\\n')\n",
    "data_list = data_list[:-2]"
   ]
  },
  {
   "cell_type": "code",
   "execution_count": null,
   "id": "77d123ea",
   "metadata": {},
   "outputs": [],
   "source": [
    "new_data_list = []\n",
    "for item in data_list:\n",
    "    item = item.replace('&', '/')\n",
    "    new_data_list.append(item.replace('-', '&'))\n",
    "    \n",
    "print(new_data_list)\n"
   ]
  },
  {
   "cell_type": "code",
   "execution_count": null,
   "id": "5c84bba5",
   "metadata": {},
   "outputs": [],
   "source": [
    "# 세부 장르별 선형 회귀 수행\n",
    "X_features = weather_data['weather']\n",
    "X_features_one = pd.get_dummies(X_features, columns = ['weather'])\n",
    "lr_list = []\n",
    "\n",
    "for detail_genre in new_data_list:\n",
    "\n",
    "    # 원 핫 인코딩 수행\n",
    "    oh_genre = 'genre_' + detail_genre\n",
    "    y_target_log = (pd.get_dummies(weather_data, columns = ['genre']))[oh_genre]\n",
    "\n",
    "    # 원 핫 인코딩을 수행한 데이터를 분할\n",
    "    X_train, X_test, y_train, y_test = train_test_split(X_features_one, y_target_log,\n",
    "                                                       test_size = 0.2, random_state = 21)\n",
    "\n",
    "    # 단순 선형 회귀 수행 후 결과 확인 \n",
    "    lr_reg = LinearRegression()\n",
    "    lr_reg.fit(X_train, y_train)\n",
    "    pred = lr_reg.predict(X_test)\n",
    "    \n",
    "    # 선형 회귀의 회귀 계수 출력\n",
    "    print(detail_genre, ' : ', lr_reg.coef_)\n",
    "    # 회귀 계수 저장\n",
    "    lr_list.append([detail_genre, lr_reg.coef_])"
   ]
  },
  {
   "cell_type": "code",
   "execution_count": null,
   "id": "d3a89233",
   "metadata": {},
   "outputs": [],
   "source": [
    "# 확인\n",
    "lr_list[:3]"
   ]
  },
  {
   "cell_type": "code",
   "execution_count": null,
   "id": "00ef5091",
   "metadata": {},
   "outputs": [],
   "source": [
    "# 결과 비교\n",
    "max_s = -1\n",
    "max_r = -1\n",
    "max_c = -1\n",
    "\n",
    "sunny, rainy, cloudy = None, None, None\n",
    "\n",
    "# 데이터는 비, 맑음, 흐림 순서\n",
    "for lr in lr_list:\n",
    "    if lr[1][0] > max_r:\n",
    "        max_r = lr[1][0]\n",
    "        rainy = lr[0]\n",
    "        \n",
    "    if lr[1][1] > max_s:\n",
    "        max_s = lr[1][1]\n",
    "        sunny = lr[0]\n",
    "        \n",
    "    if lr[1][2] > max_c:\n",
    "        max_c = lr[1][2]\n",
    "        cloudy = lr[0]\n",
    "        \n",
    "print('Rain : ', rainy, max_r)\n",
    "print('Sun : ', sunny, max_s)\n",
    "print('Cloud : ', cloudy, max_c)"
   ]
  },
  {
   "cell_type": "code",
   "execution_count": 168,
   "id": "8a68fbdd",
   "metadata": {},
   "outputs": [
    {
     "name": "stdout",
     "output_type": "stream",
     "text": [
      "비 -> \n",
      "TV 연예/오락&기타\n",
      "TV드라마&기타\n",
      "영화&액션/어드벤쳐\n",
      "맑음 -> \n",
      "키즈&기타\n",
      "영화&액션/어드벤쳐\n",
      "TV 시사/교양&기타\n",
      "구름 -> \n",
      "TV드라마&기타\n",
      "키즈&기타\n",
      "키즈&애니메이션\n"
     ]
    }
   ],
   "source": [
    "# 날씨별로 상위 3개 장르 추출\n",
    "\n",
    "# 날씨별 정렬\n",
    "sorted_data_rainy = sorted(lr_list, key=lambda x: x[1][0])[:3]\n",
    "sorted_data_sunny = sorted(lr_list, key=lambda x: x[1][1])[:3]\n",
    "sorted_data_cloudy = sorted(lr_list, key=lambda x: x[1][2])[:3]\n",
    "\n",
    "print('비 -> ')\n",
    "for item in sorted_data_rainy:\n",
    "    print(item[0])\n",
    "print('맑음 -> ')\n",
    "for item in sorted_data_sunny:\n",
    "    print(item[0])\n",
    "print('구름 -> ')\n",
    "for item in sorted_data_cloudy:\n",
    "    print(item[0])"
   ]
  }
 ],
 "metadata": {
  "kernelspec": {
   "display_name": "Python 3 (ipykernel)",
   "language": "python",
   "name": "python3"
  },
  "language_info": {
   "codemirror_mode": {
    "name": "ipython",
    "version": 3
   },
   "file_extension": ".py",
   "mimetype": "text/x-python",
   "name": "python",
   "nbconvert_exporter": "python",
   "pygments_lexer": "ipython3",
   "version": "3.10.9"
  }
 },
 "nbformat": 4,
 "nbformat_minor": 5
}
